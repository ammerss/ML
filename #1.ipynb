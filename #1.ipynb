{
 "cells": [
  {
   "cell_type": "code",
   "execution_count": 13,
   "metadata": {},
   "outputs": [],
   "source": [
    "import random\n",
    "import numpy as np\n",
    "import matplotlib.pyplot as plt\n",
    "\n",
    "num_train = 500 # training set \n",
    "num_test = 30 # testing set \n",
    "\n",
    "A_std_dev = 20.0 \n",
    "centerA1=10\n",
    "centerA2=20\n",
    "\n",
    "B_std_dev = 20.0\n",
    "centerB1=30\n",
    "centerB2=-20\n",
    "\n",
    "# generate training set\n",
    "#training_A =  [[int(np.random.normal(loc=centerA1,scale=A_std_dev)), int(np.random.normal(loc=centerA2,scale=A_std_dev))] for _ in range(num_train)]\n",
    "#training_B =  [[int(np.random.normal(loc=centerB1,scale=B_std_dev)), int(np.random.normal(loc=centerB2,scale=B_std_dev))] for _ in range(num_train)]\n",
    "#training_B = [[int(np.random.randint(0,1))] for _ in range(250)]\n",
    "#for _ in range(250) :\n",
    " #   training_B.append(1);\n",
    "A1 =  [[int(np.random.normal(loc=centerA1,scale=A_std_dev)), int(np.random.normal(loc=centerA2,scale=A_std_dev))] for _ in range(int(num_train/2))]\n",
    "A2 =  [[int(np.random.normal(loc=centerB1,scale=B_std_dev)), int(np.random.normal(loc=centerB2,scale=B_std_dev))] for _ in range(int(num_train/2))]\n",
    "A=[*A1,*A2]\n",
    "    \n",
    "B1=np.zeros(int(num_train/2))\n",
    "B2=np.ones(int(num_train/2))\n",
    "B=[*B1,*B2]\n",
    "#generate testing set\n",
    "testing_A =  [[int(np.random.normal(loc=centerA1,scale=A_std_dev)), int(np.random.normal(loc=centerA2,scale=A_std_dev))] for _ in range(num_test)]\n",
    "testing_B =  [[int(np.random.normal(loc=centerB1,scale=B_std_dev)), int(np.random.normal(loc=centerB2,scale=B_std_dev))] for _ in range(num_test)]\n"
   ]
  },
  {
   "cell_type": "code",
   "execution_count": 17,
   "metadata": {},
   "outputs": [
    {
     "name": "stdout",
     "output_type": "stream",
     "text": [
      "[0, 0, 0, 0, 0, 0, 0, 0, 0, 0, 0, 0, 0, 0, 0, 0, 0, 0, 0, 0, 0, 0, 0, 0, 0, 0, 0, 0, 0, 0, 0, 0, 0, 0, 0, 0, 0, 0, 0, 0, 0, 0, 0, 0, 0, 0, 0, 0, 0, 0, 0, 0, 0, 0, 0, 0, 0, 0, 0, 0, 0, 0, 0, 0, 0, 0, 0, 0, 0, 0, 0, 0, 0, 0, 0, 0, 0, 0, 0, 0, 0, 0, 0, 0, 0, 0, 0, 0, 0, 0, 0, 0, 0, 0, 0, 0, 0, 0, 0, 0, 0, 0, 0, 0, 0, 0, 0, 0, 0, 0, 0, 0, 0, 0, 0, 0, 0, 0, 0, 0, 0, 0, 0, 0, 0, 0, 0, 0, 0, 0, 0, 0, 0, 0, 0, 0, 0, 0, 0, 0, 0, 0, 0, 0, 0, 0, 0, 0, 0, 0, 0, 0, 0, 0, 0, 0, 0, 0, 0, 0, 0, 0, 0, 0, 0, 0, 0, 0, 0, 0, 0, 0, 0, 0, 0, 0, 0, 0, 0, 0, 0, 0, 0, 0, 0, 0, 0, 0, 0, 0, 0, 0, 0, 0, 0, 0, 0, 0, 0, 0, 0, 0, 0, 0, 0, 0, 0, 0, 0, 0, 0, 0, 0, 0, 0, 0, 0, 0, 0, 0, 0, 0, 0, 0, 0, 0, 0, 0, 0, 0, 0, 0, 0, 0, 0, 0, 0, 0, 0, 0, 0, 0, 0, 0, 0, 0, 0, 0, 0, 0, 1, 1, 1, 1, 1, 1, 1, 1, 1, 1, 1, 1, 1, 1, 1, 1, 1, 1, 1, 1, 1, 1, 1, 1, 1, 1, 1, 1, 1, 1, 1, 1, 1, 1, 1, 1, 1, 1, 1, 1, 1, 1, 1, 1, 1, 1, 1, 1, 1, 1, 1, 1, 1, 1, 1, 1, 1, 1, 1, 1, 1, 1, 1, 1, 1, 1, 1, 1, 1, 1, 1, 1, 1, 1, 1, 1, 1, 1, 1, 1, 1, 1, 1, 1, 1, 1, 1, 1, 1, 1, 1, 1, 1, 1, 1, 1, 1, 1, 1, 1, 1, 1, 1, 1, 1, 1, 1, 1, 1, 1, 1, 1, 1, 1, 1, 1, 1, 1, 1, 1, 1, 1, 1, 1, 1, 1, 1, 1, 1, 1, 1, 1, 1, 1, 1, 1, 1, 1, 1, 1, 1, 1, 1, 1, 1, 1, 1, 1, 1, 1, 1, 1, 1, 1, 1, 1, 1, 1, 1, 1, 1, 1, 1, 1, 1, 1, 1, 1, 1, 1, 1, 1, 1, 1, 1, 1, 1, 1, 1, 1, 1, 1, 1, 1, 1, 1, 1, 1, 1, 1, 1, 1, 1, 1, 1, 1, 1, 1, 1, 1, 1, 1, 1, 1, 1, 1, 1, 1, 1, 1, 1, 1, 1, 1, 1, 1, 1, 1, 1, 1, 1, 1, 1, 1, 1, 1, 1, 1, 1, 1, 1, 1, 1, 1, 1, 1, 1, 1, 1, 1, 1, 1, 1, 1, 1, 1, 1, 1, 1, 1]\n",
      "16\n"
     ]
    }
   ],
   "source": [
    "\n",
    "# convert training set and testing to an array before slicing it:\n",
    "training_A = np.array(training_A)\n",
    "#training_B = np.array(training_B)\n",
    "testing_A = np.array(testing_A)\n",
    "testing_B = np.array(testing_B)\n",
    "A=np.array(A)\n",
    "B=np.array(B)\n",
    "B = [ int(x) for x in B ]\n",
    "print(B)\n",
    "B=np.array(B)\n",
    "print(training_A[250,0])\n"
   ]
  },
  {
   "cell_type": "code",
   "execution_count": 18,
   "metadata": {},
   "outputs": [
    {
     "name": "stdout",
     "output_type": "stream",
     "text": [
      "250\n"
     ]
    },
    {
     "data": {
      "image/png": "[encoded data removed]",
      "text/plain": [
       "<Figure size 432x288 with 1 Axes>"
      ]
     },
     "metadata": {
      "needs_background": "light"
     },
     "output_type": "display_data"
    }
   ],
   "source": [
    "#plot training set and testing set\n",
    "i=0\n",
    "while(i<250) :\n",
    "        plt.scatter(A[i,0],A[i,1], c='red', marker='o')\n",
    "        i+=1\n",
    "#plt.scatter(training_B[:,0],training_B[:,1], c='green', marker='o')\n",
    "print(i)\n",
    "while(i<500) : \n",
    "    plt.scatter(A[i,0],A[i,1], c='green', marker='o')\n",
    "    i+=1\n",
    "#plt.scatter(testing_B[:,0],testing_B[:,1], c='yellowgreen', marker='o')\n",
    "plt.show()"
   ]
  },
  {
   "cell_type": "code",
   "execution_count": null,
   "metadata": {},
   "outputs": [],
   "source": []
  }
 ],
 "metadata": {
  "kernelspec": {
   "display_name": "Python 3",
   "language": "python",
   "name": "python3"
  },
  "language_info": {
   "codemirror_mode": {
    "name": "ipython",
    "version": 3
   },
   "file_extension": ".py",
   "mimetype": "text/x-python",
   "name": "python",
   "nbconvert_exporter": "python",
   "pygments_lexer": "ipython3",
   "version": "3.7.3"
  }
 },
 "nbformat": 4,
 "nbformat_minor": 2
}
